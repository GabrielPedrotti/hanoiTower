{
  "nbformat": 4,
  "nbformat_minor": 0,
  "metadata": {
    "colab": {
      "provenance": [],
      "authorship_tag": "ABX9TyMraQisXQSlveCVxq6LSqog",
      "include_colab_link": true
    },
    "kernelspec": {
      "name": "python3",
      "display_name": "Python 3"
    },
    "language_info": {
      "name": "python"
    }
  },
  "cells": [
    {
      "cell_type": "markdown",
      "metadata": {
        "id": "view-in-github",
        "colab_type": "text"
      },
      "source": [
        "<a href=\"https://colab.research.google.com/github/GabrielPedrotti/hanoiTower/blob/main/HanoiTower.ipynb\" target=\"_parent\"><img src=\"https://colab.research.google.com/assets/colab-badge.svg\" alt=\"Open In Colab\"/></a>"
      ]
    },
    {
      "cell_type": "code",
      "execution_count": null,
      "metadata": {
        "colab": {
          "base_uri": "https://localhost:8080/"
        },
        "id": "9OtxyfpD4Uf9",
        "outputId": "014f3789-6b17-451f-beb0-f1a6111775d1"
      },
      "outputs": [
        {
          "output_type": "stream",
          "name": "stdout",
          "text": [
            "Moveu disco 1 da haste A para haste B\n",
            "Moveu disco 2 da haste A para haste C\n",
            "Moveu disco 1 da haste B para haste C\n",
            "Moveu disco 3 da haste A para haste B\n",
            "Moveu disco 1 da haste C para haste A\n",
            "Moveu disco 2 da haste C para haste B\n",
            "Moveu disco 1 da haste A para haste B\n",
            "Moveu disco 4 da haste A para haste C\n",
            "Moveu disco 1 da haste B para haste C\n",
            "Moveu disco 2 da haste B para haste A\n",
            "Moveu disco 1 da haste C para haste A\n",
            "Moveu disco 3 da haste B para haste C\n",
            "Moveu disco 1 da haste A para haste B\n",
            "Moveu disco 2 da haste A para haste C\n",
            "Moveu disco 1 da haste B para haste C\n"
          ]
        }
      ],
      "source": [
        "def ResolveHanoi(numeroHastes, from_haste, to_haste, aux_haste):\n",
        "    if numeroHastes == 0:\n",
        "        return\n",
        "    ResolveHanoi(numeroHastes-1, from_haste, aux_haste, to_haste)\n",
        "    print(\"Moveu disco\", numeroHastes, \"da haste\", from_haste, \"para haste\", to_haste)\n",
        "    ResolveHanoi(numeroHastes-1, aux_haste, to_haste, from_haste)\n",
        "\n",
        "\n",
        "numeroHastes = 4\n",
        "ResolveHanoi(numeroHastes,'A','C','B')\n",
        "\n"
      ]
    }
  ]
}